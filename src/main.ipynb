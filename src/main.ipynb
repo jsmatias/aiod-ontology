{
 "cells": [
  {
   "cell_type": "code",
   "execution_count": 1,
   "metadata": {},
   "outputs": [],
   "source": [
    "import subprocess\n",
    "import downloader\n",
    "from reader import Reader\n",
    "from ontology import export_ontology"
   ]
  },
  {
   "cell_type": "markdown",
   "metadata": {},
   "source": [
    "## How does it work?\n",
    "---\n",
    "This notebook takes a list of papers (DOIs and titles) from `data/lists/{named_list}.txt/` and process them as follows:\n",
    "1. Download and store the papers in `data/data/papers/{named_list}/`\n",
    "2. Instantiate a `Reader(named_list)` and loads the pdf files along any previously information stored in cache `data/reader/cache/{named_list}.json`\n",
    "3. Extract metadata using the DOIs and calling external sources\n",
    "4. Extract topics using different classifiers. At the moment \"acm\" and \"dbpedia\" are available.\n",
    "5. Dump the results to a cached `json` file. This allows you to load them later instead of having to process everything again.\n",
    "6. Export the data to a tsv file in a format that klink uses as input to build the ontology.\n",
    "7. Run the klink algorithm (In R scripts). /!!\\ If klink2 is already set up with the correct parameters, the R algorithm can be called from Python using this notebook, otherwise, it's recommended to run `input.R` and `klink-2.R` scripts individually. I find easier to use RStudio in this case.\n",
    "8. Export the ontology to ttl file, so it can be easily loaded and visualised at https://service.tib.eu/webvowl/\n"
   ]
  },
  {
   "cell_type": "markdown",
   "metadata": {},
   "source": [
    "## Extract - Fetching papers\n",
    "---\n",
    "If the papers are already available in the data directory, you can skip this step.\n",
    "\n",
    "**Note:**\n",
    "\n",
    "You must be connected to VPN or directly to a network with full access to the papers, so the code is able to access them.\n",
    "\n",
    "> Iprovement: fetch the user credentials/token from google scholar and pass it with the request. This will eliminate the need to be connected to a network with access, "
   ]
  },
  {
   "cell_type": "code",
   "execution_count": 2,
   "metadata": {},
   "outputs": [],
   "source": [
    "named_list = \"test\""
   ]
  },
  {
   "cell_type": "code",
   "execution_count": 3,
   "metadata": {},
   "outputs": [
    {
     "name": "stderr",
     "output_type": "stream",
     "text": [
      "  0%|          | 0/5 [00:00<?, ?it/s]"
     ]
    },
    {
     "name": "stdout",
     "output_type": "stream",
     "text": [
      "10.1145/3593013.3594049: This file already exists! To overwrite it, use `overwrite=True`.\n"
     ]
    },
    {
     "name": "stderr",
     "output_type": "stream",
     "text": [
      " 40%|████      | 2/5 [00:01<00:01,  1.99it/s]"
     ]
    },
    {
     "name": "stdout",
     "output_type": "stream",
     "text": [
      "10.1145/3593013.3594039: This file already exists! To overwrite it, use `overwrite=True`.\n"
     ]
    },
    {
     "name": "stderr",
     "output_type": "stream",
     "text": [
      " 60%|██████    | 3/5 [00:02<00:01,  1.41it/s]"
     ]
    },
    {
     "name": "stdout",
     "output_type": "stream",
     "text": [
      "10.1145/3593013.3594048: This file already exists! To overwrite it, use `overwrite=True`.\n"
     ]
    },
    {
     "name": "stderr",
     "output_type": "stream",
     "text": [
      " 80%|████████  | 4/5 [00:03<00:00,  1.22it/s]"
     ]
    },
    {
     "name": "stdout",
     "output_type": "stream",
     "text": [
      "10.1145/3442188.3445876: This file already exists! To overwrite it, use `overwrite=True`.\n"
     ]
    },
    {
     "name": "stderr",
     "output_type": "stream",
     "text": [
      "100%|██████████| 5/5 [00:04<00:00,  1.24it/s]"
     ]
    },
    {
     "name": "stdout",
     "output_type": "stream",
     "text": [
      "10.1145/3531146.3533226: This file already exists! To overwrite it, use `overwrite=True`.\n"
     ]
    },
    {
     "name": "stderr",
     "output_type": "stream",
     "text": [
      "\n"
     ]
    }
   ],
   "source": [
    "downloader.download(named_list=named_list, overwrite=False)"
   ]
  },
  {
   "cell_type": "markdown",
   "metadata": {},
   "source": [
    "## Load\n",
    "---\n",
    "Instantiate Reader and load content as well as cached data if you have worked on this before and stored it as check point. "
   ]
  },
  {
   "cell_type": "code",
   "execution_count": 3,
   "metadata": {},
   "outputs": [
    {
     "name": "stdout",
     "output_type": "stream",
     "text": [
      "Help on method load in module reader.reader:\n",
      "\n",
      "load(filename_has_doi: bool = True, pattern_to_replace: dict = {}, from_inc: int | None = None, to_exc: int | None = None) method of reader.reader.Reader instance\n",
      "    Load papers from the specified directory.\n",
      "    \n",
      "    Args:\n",
      "        filename_has_doi (bool, optional): Whether the file is named with DOI pattern. Defaults to True.\n",
      "            When set to `True` the DOI will be extract from the name using the\n",
      "            `pattern_to_replace`.\n",
      "        pattern_to_replace (dict): Pattern to replace. Defaults to {}.\n",
      "            e.g.: filename = file_10_1145-3351095_00000000.txt\n",
      "                  pattern_to_replace = {'_': '.', '-':'/'}\n",
      "        from_inc (int | None, optional): Index to start loading papers (inclusive). Defaults to None.\n",
      "        to_exc (int | None, optional): Index to stop loading papers (exclusive). Defaults to None.\n",
      "\n"
     ]
    }
   ],
   "source": [
    "reader = Reader(named_list)\n",
    "help(reader.load)"
   ]
  },
  {
   "cell_type": "code",
   "execution_count": 4,
   "metadata": {},
   "outputs": [
    {
     "name": "stderr",
     "output_type": "stream",
     "text": [
      "Processing 10_1109-ICSE48619_2023_00133.pdf: 100%|██████████| 8/8 [00:00<00:00, 10.52it/s]\n"
     ]
    }
   ],
   "source": [
    "reader.load(from_inc=1, filename_has_doi=True, pattern_to_replace={\"_\": \".\", \"-\": \"/\"})\n"
   ]
  },
  {
   "cell_type": "markdown",
   "metadata": {},
   "source": [
    "\n",
    "Fetch metadata from an external source via API. Only needed if it is not yet stored in the cache, otherwise the previous cell already took care of loading the metadata to this namespace.\n",
    "\n",
    "Keywords and abstracts are extracted directly from the pdf content using REGEX. In some cases, they can be extracted from pdf metadata or from external sources if they are available.\n",
    "\n",
    "**Note**: There's a delay on purpose here to avoid reaching rate limits."
   ]
  },
  {
   "cell_type": "code",
   "execution_count": 8,
   "metadata": {},
   "outputs": [
    {
     "name": "stderr",
     "output_type": "stream",
     "text": [
      "Processing 10.1109/ICSE48619.2023.00133: 100%|██████████| 8/8 [01:04<00:00,  8.09s/it]\n"
     ]
    }
   ],
   "source": [
    "reader.extract_metadata()"
   ]
  },
  {
   "cell_type": "markdown",
   "metadata": {},
   "source": [
    "## Classify - Finding the topics which the papers are realted to\n",
    "---\n",
    "ACM provides a classification on the wepage along with the paper. The classification for papers from ACM is scraped and only works for papers available at ACM.\n",
    "\n",
    "On the other hand DBPedia provies an API that \"highlights\" the main keywords of a piece of text. For this pupose, the abstract from the PDFs fils are extracted and passed to DBPedia via API. This approach can be used in principle for any paper, independent of their source. The disadvantage is that the abstract extraction was built based on REGEX and tested only for papers from ACM. The REGEX matches are based on the word \"ABSTRACT\", thus the abstract from papers with their abstracts without a section title (i.e. ABSTRACT) are not properly extracted.\n",
    "\n",
    "The same concept of topics extraction can done using the CSO classifier, which can be locally installed. Although this is not yet implemented."
   ]
  },
  {
   "cell_type": "code",
   "execution_count": 6,
   "metadata": {},
   "outputs": [
    {
     "name": "stderr",
     "output_type": "stream",
     "text": [
      "Processing 10.1145/3593013.3594048:  12%|█▎        | 1/8 [00:03<00:24,  3.53s/it]     "
     ]
    },
    {
     "name": "stdout",
     "output_type": "stream",
     "text": [
      "10.1109/ICSE43902.2021.00129: The title '\"ignorance and prejudice\" in software fairness' in the topics extracted from ACM didn't match with ''.Ignoring this classification.\n"
     ]
    },
    {
     "name": "stderr",
     "output_type": "stream",
     "text": [
      "Processing 10.1109/ICSE48619.2023.00133:  88%|████████▊ | 7/8 [00:22<00:02,  2.98s/it]"
     ]
    },
    {
     "name": "stdout",
     "output_type": "stream",
     "text": [
      "10.1145/3531146.3533226: 400 Client Error: Bad Request for url: https://api.dbpedia-spotlight.org/en/annotate?text=\n"
     ]
    },
    {
     "name": "stderr",
     "output_type": "stream",
     "text": [
      "Processing 10.1109/ICSE48619.2023.00133: 100%|██████████| 8/8 [00:25<00:00,  3.21s/it]\n"
     ]
    }
   ],
   "source": [
    "classifiers = [\"acm\", \"dbpedia\"]\n",
    "reader.extract_classification(*classifiers)"
   ]
  },
  {
   "cell_type": "code",
   "execution_count": 9,
   "metadata": {},
   "outputs": [
    {
     "data": {
      "text/html": [
       "<div>\n",
       "<style scoped>\n",
       "    .dataframe tbody tr th:only-of-type {\n",
       "        vertical-align: middle;\n",
       "    }\n",
       "\n",
       "    .dataframe tbody tr th {\n",
       "        vertical-align: top;\n",
       "    }\n",
       "\n",
       "    .dataframe thead th {\n",
       "        text-align: right;\n",
       "    }\n",
       "</style>\n",
       "<table border=\"1\" class=\"dataframe\">\n",
       "  <thead>\n",
       "    <tr style=\"text-align: right;\">\n",
       "      <th></th>\n",
       "      <th>file_name</th>\n",
       "      <th>doi</th>\n",
       "      <th>title</th>\n",
       "      <th>authors</th>\n",
       "      <th>journal</th>\n",
       "      <th>publisher</th>\n",
       "      <th>year</th>\n",
       "      <th>keywords</th>\n",
       "      <th>topics_dbpedia</th>\n",
       "      <th>topics_acm</th>\n",
       "    </tr>\n",
       "  </thead>\n",
       "  <tbody>\n",
       "    <tr>\n",
       "      <th>0</th>\n",
       "      <td>10_1109-ICSE43902_2021_00129.pdf</td>\n",
       "      <td>10.1109/icse43902.2021.00129</td>\n",
       "      <td>âIgnorance and Prejudiceâ in Software Fair...</td>\n",
       "      <td>Zhang, Jie M.;Harman, Mark</td>\n",
       "      <td></td>\n",
       "      <td>IEEE</td>\n",
       "      <td>2021</td>\n",
       "      <td>software fairness;machine learning fairness</td>\n",
       "      <td>data set;machine learning</td>\n",
       "      <td>NaN</td>\n",
       "    </tr>\n",
       "    <tr>\n",
       "      <th>1</th>\n",
       "      <td>10_1145-3593013_3594048.pdf</td>\n",
       "      <td>10.1145/3593013.3594048</td>\n",
       "      <td>Maximal fairness</td>\n",
       "      <td>Defrance, Marybeth;De Bie, Tijl</td>\n",
       "      <td></td>\n",
       "      <td>ACM</td>\n",
       "      <td>2023</td>\n",
       "      <td>fairness;fairness in ai;fairness definitions;c...</td>\n",
       "      <td>parity;ai;theorem</td>\n",
       "      <td>computing methodologies;artificial intelligence</td>\n",
       "    </tr>\n",
       "    <tr>\n",
       "      <th>2</th>\n",
       "      <td>10_1145-3593013_3594049.pdf</td>\n",
       "      <td>10.1145/3593013.3594049</td>\n",
       "      <td>Augmented Datasheets for Speech Datasets and E...</td>\n",
       "      <td>Papakyriakopoulos, Orestis;Choi, Anna Seo Gyeo...</td>\n",
       "      <td></td>\n",
       "      <td>ACM</td>\n",
       "      <td>2023</td>\n",
       "      <td>datasets;speech;datasheets;ethics;transparency</td>\n",
       "      <td>web-crawling;intersectionality;bear;acm;dialec...</td>\n",
       "      <td>applied computing;arts and humanities;sound an...</td>\n",
       "    </tr>\n",
       "    <tr>\n",
       "      <th>3</th>\n",
       "      <td>10_1145-1005686_1005704.pdf</td>\n",
       "      <td>10.1145/1005686.1005704</td>\n",
       "      <td>A resource-allocation queueing fairness measure</td>\n",
       "      <td>Raz, David;Levy, Hanoch;Avi-Itzhak, Benjamin</td>\n",
       "      <td></td>\n",
       "      <td>ACM</td>\n",
       "      <td>2004</td>\n",
       "      <td>fairness;fcfs;job scheduling;m/m/1;processor s...</td>\n",
       "      <td>ros;fairness measure;accounting</td>\n",
       "      <td>general and reference;cross-computing tools an...</td>\n",
       "    </tr>\n",
       "    <tr>\n",
       "      <th>4</th>\n",
       "      <td>10_1109-90_993299.pdf</td>\n",
       "      <td>10.1109/90.993299</td>\n",
       "      <td>The impact of multicast layering on network fa...</td>\n",
       "      <td>Rubenstein, D.;Kurose, J.;Towsley, D.</td>\n",
       "      <td>IEEE/ACM Transactions on Networking</td>\n",
       "      <td>Institute of Electrical and Electronics Engine...</td>\n",
       "      <td>2002</td>\n",
       "      <td>congestion control;fairness;multicast.</td>\n",
       "      <td>bandwidth;protocol;unicast;multicast;congestio...</td>\n",
       "      <td>general and reference;cross-computing tools an...</td>\n",
       "    </tr>\n",
       "    <tr>\n",
       "      <th>5</th>\n",
       "      <td>10_1145-3442188_3445876.pdf</td>\n",
       "      <td>10.1145/3442188.3445876</td>\n",
       "      <td>Group Fairness: Independence Revisited</td>\n",
       "      <td>RÃ¤z, Tim</td>\n",
       "      <td></td>\n",
       "      <td>ACM</td>\n",
       "      <td>2021</td>\n",
       "      <td>fairness;independence;statistical parity;demog...</td>\n",
       "      <td>parity;computer science</td>\n",
       "      <td>applied computing;arts and humanities;computin...</td>\n",
       "    </tr>\n",
       "    <tr>\n",
       "      <th>6</th>\n",
       "      <td>10_1145-3531146_3533226.pdf</td>\n",
       "      <td>10.1145/3531146.3533226</td>\n",
       "      <td>Demographic-Reliant Algorithmic Fairness: Char...</td>\n",
       "      <td>Andrus, McKane;Villeneuve, Sarah</td>\n",
       "      <td></td>\n",
       "      <td>ACM</td>\n",
       "      <td>2022</td>\n",
       "      <td>demographic data;sensitive data;categorization...</td>\n",
       "      <td></td>\n",
       "      <td>applied computing;law, social and behavioral s...</td>\n",
       "    </tr>\n",
       "    <tr>\n",
       "      <th>7</th>\n",
       "      <td>10_1109-ICSE48619_2023_00133.pdf</td>\n",
       "      <td>10.1109/icse48619.2023.00133</td>\n",
       "      <td>Towards Understanding Fairness and its Composi...</td>\n",
       "      <td>Gohar, Usman;Biswas, Sumon;Rajan, Hridesh</td>\n",
       "      <td></td>\n",
       "      <td>IEEE</td>\n",
       "      <td>2023</td>\n",
       "      <td>fairness;ensemble;machine learning;models</td>\n",
       "      <td>hyperparameters;random forest;interplay;algori...</td>\n",
       "      <td></td>\n",
       "    </tr>\n",
       "  </tbody>\n",
       "</table>\n",
       "</div>"
      ],
      "text/plain": [
       "                          file_name                           doi  \\\n",
       "0  10_1109-ICSE43902_2021_00129.pdf  10.1109/icse43902.2021.00129   \n",
       "1       10_1145-3593013_3594048.pdf       10.1145/3593013.3594048   \n",
       "2       10_1145-3593013_3594049.pdf       10.1145/3593013.3594049   \n",
       "3       10_1145-1005686_1005704.pdf       10.1145/1005686.1005704   \n",
       "4             10_1109-90_993299.pdf             10.1109/90.993299   \n",
       "5       10_1145-3442188_3445876.pdf       10.1145/3442188.3445876   \n",
       "6       10_1145-3531146_3533226.pdf       10.1145/3531146.3533226   \n",
       "7  10_1109-ICSE48619_2023_00133.pdf  10.1109/icse48619.2023.00133   \n",
       "\n",
       "                                               title  \\\n",
       "0  âIgnorance and Prejudiceâ in Software Fair...   \n",
       "1                                   Maximal fairness   \n",
       "2  Augmented Datasheets for Speech Datasets and E...   \n",
       "3    A resource-allocation queueing fairness measure   \n",
       "4  The impact of multicast layering on network fa...   \n",
       "5             Group Fairness: Independence Revisited   \n",
       "6  Demographic-Reliant Algorithmic Fairness: Char...   \n",
       "7  Towards Understanding Fairness and its Composi...   \n",
       "\n",
       "                                             authors  \\\n",
       "0                         Zhang, Jie M.;Harman, Mark   \n",
       "1                    Defrance, Marybeth;De Bie, Tijl   \n",
       "2  Papakyriakopoulos, Orestis;Choi, Anna Seo Gyeo...   \n",
       "3       Raz, David;Levy, Hanoch;Avi-Itzhak, Benjamin   \n",
       "4              Rubenstein, D.;Kurose, J.;Towsley, D.   \n",
       "5                                          RÃ¤z, Tim   \n",
       "6                   Andrus, McKane;Villeneuve, Sarah   \n",
       "7          Gohar, Usman;Biswas, Sumon;Rajan, Hridesh   \n",
       "\n",
       "                               journal  \\\n",
       "0                                        \n",
       "1                                        \n",
       "2                                        \n",
       "3                                        \n",
       "4  IEEE/ACM Transactions on Networking   \n",
       "5                                        \n",
       "6                                        \n",
       "7                                        \n",
       "\n",
       "                                           publisher  year  \\\n",
       "0                                               IEEE  2021   \n",
       "1                                                ACM  2023   \n",
       "2                                                ACM  2023   \n",
       "3                                                ACM  2004   \n",
       "4  Institute of Electrical and Electronics Engine...  2002   \n",
       "5                                                ACM  2021   \n",
       "6                                                ACM  2022   \n",
       "7                                               IEEE  2023   \n",
       "\n",
       "                                            keywords  \\\n",
       "0        software fairness;machine learning fairness   \n",
       "1  fairness;fairness in ai;fairness definitions;c...   \n",
       "2     datasets;speech;datasheets;ethics;transparency   \n",
       "3  fairness;fcfs;job scheduling;m/m/1;processor s...   \n",
       "4             congestion control;fairness;multicast.   \n",
       "5  fairness;independence;statistical parity;demog...   \n",
       "6  demographic data;sensitive data;categorization...   \n",
       "7          fairness;ensemble;machine learning;models   \n",
       "\n",
       "                                      topics_dbpedia  \\\n",
       "0                          data set;machine learning   \n",
       "1                                  parity;ai;theorem   \n",
       "2  web-crawling;intersectionality;bear;acm;dialec...   \n",
       "3                    ros;fairness measure;accounting   \n",
       "4  bandwidth;protocol;unicast;multicast;congestio...   \n",
       "5                            parity;computer science   \n",
       "6                                                      \n",
       "7  hyperparameters;random forest;interplay;algori...   \n",
       "\n",
       "                                          topics_acm  \n",
       "0                                                NaN  \n",
       "1    computing methodologies;artificial intelligence  \n",
       "2  applied computing;arts and humanities;sound an...  \n",
       "3  general and reference;cross-computing tools an...  \n",
       "4  general and reference;cross-computing tools an...  \n",
       "5  applied computing;arts and humanities;computin...  \n",
       "6  applied computing;law, social and behavioral s...  \n",
       "7                                                     "
      ]
     },
     "execution_count": 9,
     "metadata": {},
     "output_type": "execute_result"
    }
   ],
   "source": [
    "reader.metadata_collection(\"dataframe\")"
   ]
  },
  {
   "cell_type": "code",
   "execution_count": 10,
   "metadata": {},
   "outputs": [
    {
     "data": {
      "text/plain": [
       "8"
      ]
     },
     "execution_count": 10,
     "metadata": {},
     "output_type": "execute_result"
    }
   ],
   "source": [
    "len([1 for paper in reader.paper_list if paper.topics.get(\"acm\") or paper.topics.get(\"dbpedia\")])"
   ]
  },
  {
   "cell_type": "markdown",
   "metadata": {},
   "source": [
    "## Save the progress to a JSON file"
   ]
  },
  {
   "cell_type": "code",
   "execution_count": 11,
   "metadata": {},
   "outputs": [],
   "source": [
    "reader.dump(overwrite=False)"
   ]
  },
  {
   "cell_type": "markdown",
   "metadata": {},
   "source": [
    "## Export to Klink file"
   ]
  },
  {
   "cell_type": "code",
   "execution_count": 12,
   "metadata": {},
   "outputs": [
    {
     "data": {
      "text/html": [
       "<div>\n",
       "<style scoped>\n",
       "    .dataframe tbody tr th:only-of-type {\n",
       "        vertical-align: middle;\n",
       "    }\n",
       "\n",
       "    .dataframe tbody tr th {\n",
       "        vertical-align: top;\n",
       "    }\n",
       "\n",
       "    .dataframe thead th {\n",
       "        text-align: right;\n",
       "    }\n",
       "</style>\n",
       "<table border=\"1\" class=\"dataframe\">\n",
       "  <thead>\n",
       "    <tr style=\"text-align: right;\">\n",
       "      <th></th>\n",
       "      <th>DE</th>\n",
       "      <th>TI</th>\n",
       "      <th>AU</th>\n",
       "      <th>SO</th>\n",
       "      <th>SC</th>\n",
       "      <th>PY</th>\n",
       "    </tr>\n",
       "  </thead>\n",
       "  <tbody>\n",
       "    <tr>\n",
       "      <th>1</th>\n",
       "      <td>fairness;fairness in ai;fairness definitions;c...</td>\n",
       "      <td>Maximal fairness</td>\n",
       "      <td>Defrance, Marybeth;De Bie, Tijl</td>\n",
       "      <td>ACM</td>\n",
       "      <td>computing methodologies;artificial intelligence</td>\n",
       "      <td>2023</td>\n",
       "    </tr>\n",
       "    <tr>\n",
       "      <th>2</th>\n",
       "      <td>datasets;speech;datasheets;ethics;transparency</td>\n",
       "      <td>Augmented Datasheets for Speech Datasets and E...</td>\n",
       "      <td>Papakyriakopoulos, Orestis;Choi, Anna Seo Gyeo...</td>\n",
       "      <td>ACM</td>\n",
       "      <td>applied computing;arts and humanities;sound an...</td>\n",
       "      <td>2023</td>\n",
       "    </tr>\n",
       "    <tr>\n",
       "      <th>3</th>\n",
       "      <td>fairness;fcfs;job scheduling;m/m/1;processor s...</td>\n",
       "      <td>A resource-allocation queueing fairness measure</td>\n",
       "      <td>Raz, David;Levy, Hanoch;Avi-Itzhak, Benjamin</td>\n",
       "      <td>ACM</td>\n",
       "      <td>general and reference;cross-computing tools an...</td>\n",
       "      <td>2004</td>\n",
       "    </tr>\n",
       "    <tr>\n",
       "      <th>4</th>\n",
       "      <td>congestion control;fairness;multicast.</td>\n",
       "      <td>The impact of multicast layering on network fa...</td>\n",
       "      <td>Rubenstein, D.;Kurose, J.;Towsley, D.</td>\n",
       "      <td>Institute of Electrical and Electronics Engine...</td>\n",
       "      <td>general and reference;cross-computing tools an...</td>\n",
       "      <td>2002</td>\n",
       "    </tr>\n",
       "    <tr>\n",
       "      <th>5</th>\n",
       "      <td>fairness;independence;statistical parity;demog...</td>\n",
       "      <td>Group Fairness: Independence Revisited</td>\n",
       "      <td>RÃ¤z, Tim</td>\n",
       "      <td>ACM</td>\n",
       "      <td>applied computing;arts and humanities;computin...</td>\n",
       "      <td>2021</td>\n",
       "    </tr>\n",
       "    <tr>\n",
       "      <th>6</th>\n",
       "      <td>demographic data;sensitive data;categorization...</td>\n",
       "      <td>Demographic-Reliant Algorithmic Fairness: Char...</td>\n",
       "      <td>Andrus, McKane;Villeneuve, Sarah</td>\n",
       "      <td>ACM</td>\n",
       "      <td>applied computing;law, social and behavioral s...</td>\n",
       "      <td>2022</td>\n",
       "    </tr>\n",
       "  </tbody>\n",
       "</table>\n",
       "</div>"
      ],
      "text/plain": [
       "                                                  DE  \\\n",
       "1  fairness;fairness in ai;fairness definitions;c...   \n",
       "2     datasets;speech;datasheets;ethics;transparency   \n",
       "3  fairness;fcfs;job scheduling;m/m/1;processor s...   \n",
       "4             congestion control;fairness;multicast.   \n",
       "5  fairness;independence;statistical parity;demog...   \n",
       "6  demographic data;sensitive data;categorization...   \n",
       "\n",
       "                                                  TI  \\\n",
       "1                                   Maximal fairness   \n",
       "2  Augmented Datasheets for Speech Datasets and E...   \n",
       "3    A resource-allocation queueing fairness measure   \n",
       "4  The impact of multicast layering on network fa...   \n",
       "5             Group Fairness: Independence Revisited   \n",
       "6  Demographic-Reliant Algorithmic Fairness: Char...   \n",
       "\n",
       "                                                  AU  \\\n",
       "1                    Defrance, Marybeth;De Bie, Tijl   \n",
       "2  Papakyriakopoulos, Orestis;Choi, Anna Seo Gyeo...   \n",
       "3       Raz, David;Levy, Hanoch;Avi-Itzhak, Benjamin   \n",
       "4              Rubenstein, D.;Kurose, J.;Towsley, D.   \n",
       "5                                          RÃ¤z, Tim   \n",
       "6                   Andrus, McKane;Villeneuve, Sarah   \n",
       "\n",
       "                                                  SO  \\\n",
       "1                                                ACM   \n",
       "2                                                ACM   \n",
       "3                                                ACM   \n",
       "4  Institute of Electrical and Electronics Engine...   \n",
       "5                                                ACM   \n",
       "6                                                ACM   \n",
       "\n",
       "                                                  SC    PY  \n",
       "1    computing methodologies;artificial intelligence  2023  \n",
       "2  applied computing;arts and humanities;sound an...  2023  \n",
       "3  general and reference;cross-computing tools an...  2004  \n",
       "4  general and reference;cross-computing tools an...  2002  \n",
       "5  applied computing;arts and humanities;computin...  2021  \n",
       "6  applied computing;law, social and behavioral s...  2022  "
      ]
     },
     "execution_count": 12,
     "metadata": {},
     "output_type": "execute_result"
    }
   ],
   "source": [
    "reader.export_as_klink_input(classification_source=\"acm\")"
   ]
  },
  {
   "cell_type": "markdown",
   "metadata": {},
   "source": [
    "## Run the Klink-2 Scripts"
   ]
  },
  {
   "cell_type": "code",
   "execution_count": 7,
   "metadata": {},
   "outputs": [
    {
     "name": "stderr",
     "output_type": "stream",
     "text": [
      "/Users/jmatias/Documents/develop/aiod-ontology/venv/lib/python3.11/site-packages/IPython/core/magics/osm.py:417: UserWarning: This is now an optional IPython functionality, setting dhist requires you to install the `pickleshare` library.\n",
      "  self.shell.db['dhist'] = compress_dhist(dhist)[-100:]\n"
     ]
    },
    {
     "name": "stdout",
     "output_type": "stream",
     "text": [
      "/Users/jmatias/Documents/develop/aiod-ontology/src/klink2\n"
     ]
    },
    {
     "name": "stderr",
     "output_type": "stream",
     "text": [
      "\n",
      "Attaching package: ‘igraph’\n",
      "\n",
      "The following objects are masked from ‘package:stats’:\n",
      "\n",
      "    decompose, spectrum\n",
      "\n",
      "The following object is masked from ‘package:base’:\n",
      "\n",
      "    union\n",
      "\n",
      "hash-2.2.6.3 provided by Decision Patterns\n",
      "\n",
      "\n",
      "Attaching package: ‘fastcluster’\n",
      "\n",
      "The following object is masked from ‘package:stats’:\n",
      "\n",
      "    hclust\n",
      "\n",
      "\n",
      "Attaching package: ‘dplyr’\n",
      "\n",
      "The following objects are masked from ‘package:igraph’:\n",
      "\n",
      "    as_data_frame, groups, union\n",
      "\n",
      "The following objects are masked from ‘package:stats’:\n",
      "\n",
      "    filter, lag\n",
      "\n",
      "The following objects are masked from ‘package:base’:\n",
      "\n",
      "    intersect, setdiff, setequal, union\n",
      "\n"
     ]
    },
    {
     "name": "stdout",
     "output_type": "stream",
     "text": [
      "process article  1  out of  6 \n",
      "process article  2  out of  6 \n",
      "process article  3  out of  6 \n",
      "process article  4  out of  6 \n",
      "process article  5  out of  6 \n",
      "process article  6  out of  6 \n",
      "process keyword  1  out of  36 \n",
      "process keyword  2  out of  36 \n",
      "process keyword  3  out of  36 \n",
      "process keyword  4  out of  36 \n",
      "process keyword  5  out of  36 \n",
      "process keyword  6  out of  36 \n",
      "process keyword  7  out of  36 \n",
      "process keyword  8  out of  36 \n",
      "process keyword  9  out of  36 \n",
      "process keyword  10  out of  36 \n",
      "process keyword  11  out of  36 \n",
      "process keyword  12  out of  36 \n",
      "process keyword  13  out of  36 \n",
      "process keyword  14  out of  36 \n",
      "process keyword  15  out of  36 \n",
      "process keyword  16  out of  36 \n",
      "process keyword  17  out of  36 \n",
      "process keyword  18  out of  36 \n",
      "process keyword  19  out of  36 \n",
      "process keyword  20  out of  36 \n",
      "process keyword  21  out of  36 \n",
      "process keyword  22  out of  36 \n",
      "process keyword  23  out of  36 \n",
      "process keyword  24  out of  36 \n",
      "process keyword  25  out of  36 \n",
      "process keyword  26  out of  36 \n",
      "process keyword  27  out of  36 \n",
      "process keyword  28  out of  36 \n",
      "process keyword  29  out of  36 \n",
      "process keyword  30  out of  36 \n",
      "process keyword  31  out of  36 \n",
      "process keyword  32  out of  36 \n",
      "process keyword  33  out of  36 \n",
      "process keyword  34  out of  36 \n",
      "process keyword  35  out of  36 \n",
      "process keyword  36  out of  36 \n",
      "Input variables saved to ../../data/klink2/test/test.Rdata \n",
      "Iteration 1 \n",
      "Number of keywords = 36 \n",
      "Keyword inference.\n",
      "Infering keyword: demographic data  [ number of related keywords = 9 ]\n",
      "Infering keyword: sensitive data  [ number of related keywords = 9 ]\n",
      "Infering keyword: categorization  [ number of related keywords = 9 ]\n",
      "Infering keyword: fairness  [ number of related keywords = 26 ]\n",
      "Infering keyword: discrimination  [ number of related keywords = 9 ]\n",
      "Infering keyword: identity  [ number of related keywords = 9 ]\n",
      "Infering keyword: race  [ number of related keywords = 9 ]\n",
      "Infering keyword: gender  [ number of related keywords = 9 ]\n",
      "Infering keyword: sexuality  [ number of related keywords = 9 ]\n",
      "Infering keyword: measurement  [ number of related keywords = 9 ]\n",
      "Infering keyword: independence  [ number of related keywords = 7 ]\n",
      "Infering keyword: statistical parity  [ number of related keywords = 7 ]\n",
      "Infering keyword: demographic parity  [ number of related keywords = 7 ]\n",
      "Infering keyword: sufficiency  [ number of related keywords = 7 ]\n",
      "Infering keyword: separation  [ number of related keywords = 7 ]\n",
      "Infering keyword: affirmative action  [ number of related keywords = 7 ]\n",
      "Infering keyword: accuracy  [ number of related keywords = 7 ]\n",
      "Infering keyword: congestion control  [ number of related keywords = 2 ]\n",
      "Infering keyword: multicast.  [ number of related keywords = 2 ]\n",
      "Infering keyword: fcfs  [ number of related keywords = 8 ]\n",
      "Infering keyword: job scheduling  [ number of related keywords = 8 ]\n",
      "Infering keyword: m/m/1  [ number of related keywords = 8 ]\n",
      "Infering keyword: processor sharing  [ number of related keywords = 8 ]\n",
      "Infering keyword: ps  [ number of related keywords = 8 ]\n",
      "Infering keyword: queue disciplines  [ number of related keywords = 8 ]\n",
      "Infering keyword: resource allocation  [ number of related keywords = 8 ]\n",
      "Infering keyword: unfairness  [ number of related keywords = 8 ]\n",
      "Infering keyword: datasets  [ number of related keywords = 4 ]\n",
      "Infering keyword: speech  [ number of related keywords = 4 ]\n",
      "Infering keyword: datasheets  [ number of related keywords = 4 ]\n",
      "Infering keyword: ethics  [ number of related keywords = 4 ]\n",
      "Infering keyword: transparency  [ number of related keywords = 4 ]\n",
      "Infering keyword: fairness in ai  [ number of related keywords = 0 ]\n",
      "Infering keyword: fairness definitions  [ number of related keywords = 0 ]\n",
      "Infering keyword: confusion tables  [ number of related keywords = 0 ]\n",
      "Infering keyword: combining fairness definitions  [ number of related keywords = 0 ]\n",
      "Number of working semantic relations after inference:\n",
      "\trelatedEquivalent:  0 \n",
      "\tbroaderGeneric:  23 \n",
      "\tcontributesTo: 24 \n",
      "\tsimilarityLink: 0 \n",
      "Seeking ambiguous keywords.\n",
      "splitAmbiguousKeywords for demographic data  [ number of related keywords = 9 ]\n",
      "splitAmbiguousKeywords for sensitive data  [ number of related keywords = 9 ]\n",
      "splitAmbiguousKeywords for categorization  [ number of related keywords = 9 ]\n",
      "splitAmbiguousKeywords for fairness  [ number of related keywords = 26 ]\n",
      "intersect clustering: #clusters = 4 \n",
      "splitting fairness into  4 keywords\n",
      "splitAmbiguousKeywords for discrimination  [ number of related keywords = 8 ]\n",
      "splitAmbiguousKeywords for identity  [ number of related keywords = 8 ]\n",
      "splitAmbiguousKeywords for race  [ number of related keywords = 8 ]\n",
      "splitAmbiguousKeywords for gender  [ number of related keywords = 8 ]\n",
      "splitAmbiguousKeywords for sexuality  [ number of related keywords = 8 ]\n",
      "splitAmbiguousKeywords for measurement  [ number of related keywords = 8 ]\n",
      "splitAmbiguousKeywords for independence  [ number of related keywords = 6 ]\n",
      "splitAmbiguousKeywords for statistical parity  [ number of related keywords = 6 ]\n",
      "splitAmbiguousKeywords for demographic parity  [ number of related keywords = 6 ]\n",
      "splitAmbiguousKeywords for sufficiency  [ number of related keywords = 6 ]\n",
      "splitAmbiguousKeywords for separation  [ number of related keywords = 6 ]\n",
      "splitAmbiguousKeywords for affirmative action  [ number of related keywords = 6 ]\n",
      "splitAmbiguousKeywords for accuracy  [ number of related keywords = 6 ]\n",
      "splitAmbiguousKeywords for congestion control  [ number of related keywords = 1 ]\n",
      "splitAmbiguousKeywords for multicast.  [ number of related keywords = 1 ]\n",
      "splitAmbiguousKeywords for fcfs  [ number of related keywords = 7 ]\n",
      "splitAmbiguousKeywords for job scheduling  [ number of related keywords = 7 ]\n",
      "splitAmbiguousKeywords for m/m/1  [ number of related keywords = 7 ]\n",
      "splitAmbiguousKeywords for processor sharing  [ number of related keywords = 7 ]\n",
      "splitAmbiguousKeywords for ps  [ number of related keywords = 7 ]\n",
      "splitAmbiguousKeywords for queue disciplines  [ number of related keywords = 7 ]\n",
      "splitAmbiguousKeywords for resource allocation  [ number of related keywords = 7 ]\n",
      "splitAmbiguousKeywords for unfairness  [ number of related keywords = 7 ]\n",
      "splitAmbiguousKeywords for datasets  [ number of related keywords = 4 ]\n",
      "splitAmbiguousKeywords for speech  [ number of related keywords = 4 ]\n",
      "splitAmbiguousKeywords for datasheets  [ number of related keywords = 4 ]\n",
      "splitAmbiguousKeywords for ethics  [ number of related keywords = 4 ]\n",
      "splitAmbiguousKeywords for transparency  [ number of related keywords = 4 ]\n",
      "splitAmbiguousKeywords for fairness in ai  [ number of related keywords = 0 ]\n",
      "splitAmbiguousKeywords for fairness definitions  [ number of related keywords = 0 ]\n",
      "splitAmbiguousKeywords for confusion tables  [ number of related keywords = 0 ]\n",
      "splitAmbiguousKeywords for combining fairness definitions  [ number of related keywords = 0 ]\n",
      "Intersect clustering was run 1 times.\n",
      "Splitting was done 1 times.\n",
      "Iteration 2 \n",
      "Number of keywords = 39 \n",
      "Keyword inference.\n",
      "Infering keyword: demographic data  [ number of related keywords = 8 ]\n",
      "Infering keyword: sensitive data  [ number of related keywords = 8 ]\n",
      "Infering keyword: categorization  [ number of related keywords = 8 ]\n",
      "Infering keyword: discrimination  [ number of related keywords = 8 ]\n",
      "Infering keyword: identity  [ number of related keywords = 8 ]\n",
      "Infering keyword: race  [ number of related keywords = 8 ]\n",
      "Infering keyword: gender  [ number of related keywords = 8 ]\n",
      "Infering keyword: sexuality  [ number of related keywords = 8 ]\n",
      "Infering keyword: measurement  [ number of related keywords = 8 ]\n",
      "Infering keyword: independence  [ number of related keywords = 6 ]\n",
      "Infering keyword: statistical parity  [ number of related keywords = 6 ]\n",
      "Infering keyword: demographic parity  [ number of related keywords = 6 ]\n",
      "Infering keyword: sufficiency  [ number of related keywords = 6 ]\n",
      "Infering keyword: separation  [ number of related keywords = 6 ]\n",
      "Infering keyword: affirmative action  [ number of related keywords = 6 ]\n",
      "Infering keyword: accuracy  [ number of related keywords = 6 ]\n",
      "Infering keyword: congestion control  [ number of related keywords = 1 ]\n",
      "Infering keyword: multicast.  [ number of related keywords = 1 ]\n",
      "Infering keyword: fcfs  [ number of related keywords = 7 ]\n",
      "Infering keyword: job scheduling  [ number of related keywords = 7 ]\n",
      "Infering keyword: m/m/1  [ number of related keywords = 7 ]\n",
      "Infering keyword: processor sharing  [ number of related keywords = 7 ]\n",
      "Infering keyword: ps  [ number of related keywords = 7 ]\n",
      "Infering keyword: queue disciplines  [ number of related keywords = 7 ]\n",
      "Infering keyword: resource allocation  [ number of related keywords = 7 ]\n",
      "Infering keyword: unfairness  [ number of related keywords = 7 ]\n",
      "Infering keyword: datasets  [ number of related keywords = 4 ]\n",
      "Infering keyword: speech  [ number of related keywords = 4 ]\n",
      "Infering keyword: datasheets  [ number of related keywords = 4 ]\n",
      "Infering keyword: ethics  [ number of related keywords = 4 ]\n",
      "Infering keyword: transparency  [ number of related keywords = 4 ]\n",
      "Infering keyword: fairness in ai  [ number of related keywords = 0 ]\n",
      "Infering keyword: fairness definitions  [ number of related keywords = 0 ]\n",
      "Infering keyword: confusion tables  [ number of related keywords = 0 ]\n",
      "Infering keyword: combining fairness definitions  [ number of related keywords = 0 ]\n",
      "Infering keyword: fairness (unfairness)  [ number of related keywords = 10 ]\n",
      "Infering keyword: fairness (measurement)  [ number of related keywords = 8 ]\n",
      "Infering keyword: fairness (accuracy)  [ number of related keywords = 7 ]\n",
      "Infering keyword: fairness (multicast.)  [ number of related keywords = 10 ]\n",
      "Number of working semantic relations after inference:\n",
      "\trelatedEquivalent:  0 \n",
      "\tbroaderGeneric:  0 \n",
      "\tcontributesTo: 24 \n",
      "\tsimilarityLink: 0 \n",
      "mergeSimilarKeywords for 0 links or 0 keywords.\n",
      "Saving semantic relations.\n",
      "Filtering keywords.\n",
      "Output\n",
      "\tnumber of keywords:  30 \n",
      "\tnumber of relations:  71 \n",
      "/Users/jmatias/Documents/develop/aiod-ontology/src\n"
     ]
    },
    {
     "name": "stderr",
     "output_type": "stream",
     "text": [
      "/Users/jmatias/Documents/develop/aiod-ontology/venv/lib/python3.11/site-packages/IPython/core/magics/osm.py:417: UserWarning: This is now an optional IPython functionality, setting dhist requires you to install the `pickleshare` library.\n",
      "  self.shell.db['dhist'] = compress_dhist(dhist)[-100:]\n"
     ]
    }
   ],
   "source": [
    "\n",
    "%cd \"./klink2/\"\n",
    "subprocess.run([\"Rscript\", \"main.R\", named_list])\n",
    "%cd \"../\""
   ]
  },
  {
   "cell_type": "markdown",
   "metadata": {},
   "source": [
    "## Export the ontology to a `.ttl` file"
   ]
  },
  {
   "cell_type": "code",
   "execution_count": 8,
   "metadata": {},
   "outputs": [
    {
     "name": "stdout",
     "output_type": "stream",
     "text": [
      "File exported to /Users/jmatias/Documents/develop/aiod-ontology/data/ontology/test.ttl\n"
     ]
    }
   ],
   "source": [
    "export_ontology(named_list)"
   ]
  },
  {
   "cell_type": "markdown",
   "metadata": {},
   "source": [
    "### For visualisation, go to https://service.tib.eu/webvowl/ and import the file to it using its interface."
   ]
  }
 ],
 "metadata": {
  "kernelspec": {
   "display_name": "venv",
   "language": "python",
   "name": "python3"
  },
  "language_info": {
   "codemirror_mode": {
    "name": "ipython",
    "version": 3
   },
   "file_extension": ".py",
   "mimetype": "text/x-python",
   "name": "python",
   "nbconvert_exporter": "python",
   "pygments_lexer": "ipython3",
   "version": "3.11.6"
  }
 },
 "nbformat": 4,
 "nbformat_minor": 2
}
