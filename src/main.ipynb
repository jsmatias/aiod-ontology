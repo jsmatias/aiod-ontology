{
 "cells": [
  {
   "cell_type": "code",
   "execution_count": 1,
   "metadata": {},
   "outputs": [],
   "source": [
    "import subprocess\n",
    "import downloader\n",
    "from reader import Reader\n",
    "from ontology import export_ontology"
   ]
  },
  {
   "cell_type": "code",
   "execution_count": 2,
   "metadata": {},
   "outputs": [],
   "source": [
    "named_list = \"fairness\""
   ]
  },
  {
   "cell_type": "code",
   "execution_count": 3,
   "metadata": {},
   "outputs": [],
   "source": [
    "# downloader.download(named_list=named_list)"
   ]
  },
  {
   "cell_type": "code",
   "execution_count": 3,
   "metadata": {},
   "outputs": [
    {
     "name": "stderr",
     "output_type": "stream",
     "text": [
      "Processing 10_1145-3442188_3445865.pdf: 100%|██████████| 201/201 [00:33<00:00,  6.00it/s]     \n"
     ]
    }
   ],
   "source": [
    "reader = Reader(named_list)\n",
    "reader.load(from_inc=0)\n"
   ]
  },
  {
   "cell_type": "code",
   "execution_count": 57,
   "metadata": {},
   "outputs": [
    {
     "name": "stderr",
     "output_type": "stream",
     "text": [
      "Processing 10.1145/3442188.3445865: 100%|██████████| 31/31 [05:08<00:00,  9.97s/it]     \n"
     ]
    }
   ],
   "source": [
    "reader.extract_metadata()"
   ]
  },
  {
   "cell_type": "code",
   "execution_count": 58,
   "metadata": {},
   "outputs": [
    {
     "name": "stderr",
     "output_type": "stream",
     "text": [
      "Processing 10.1145/3442188.3445865: 100%|██████████| 31/31 [03:17<00:00,  6.37s/it]     \n"
     ]
    }
   ],
   "source": [
    "classifiers = [\"acm\", \"dbpedia\"]\n",
    "reader.extract_classification(*classifiers)"
   ]
  },
  {
   "cell_type": "code",
   "execution_count": 4,
   "metadata": {},
   "outputs": [
    {
     "data": {
      "text/html": [
       "<div>\n",
       "<style scoped>\n",
       "    .dataframe tbody tr th:only-of-type {\n",
       "        vertical-align: middle;\n",
       "    }\n",
       "\n",
       "    .dataframe tbody tr th {\n",
       "        vertical-align: top;\n",
       "    }\n",
       "\n",
       "    .dataframe thead th {\n",
       "        text-align: right;\n",
       "    }\n",
       "</style>\n",
       "<table border=\"1\" class=\"dataframe\">\n",
       "  <thead>\n",
       "    <tr style=\"text-align: right;\">\n",
       "      <th></th>\n",
       "      <th>file_name</th>\n",
       "      <th>doi</th>\n",
       "      <th>title</th>\n",
       "      <th>authors</th>\n",
       "      <th>journal</th>\n",
       "      <th>publisher</th>\n",
       "      <th>year</th>\n",
       "      <th>keywords</th>\n",
       "      <th>topics_acm</th>\n",
       "      <th>topics_dbpedia</th>\n",
       "    </tr>\n",
       "  </thead>\n",
       "  <tbody>\n",
       "    <tr>\n",
       "      <th>0</th>\n",
       "      <td>10_1145-3404835_3462948.pdf</td>\n",
       "      <td>10.1145/3404835.3462948</td>\n",
       "      <td>Fairness among New Items in Cold Start Recomme...</td>\n",
       "      <td>Zhu, Ziwei;Kim, Jingu;Nguyen, Trung;Fenton, Ai...</td>\n",
       "      <td></td>\n",
       "      <td>ACM</td>\n",
       "      <td>2021</td>\n",
       "      <td>fairness;cold start recommendation</td>\n",
       "      <td>information systems;information retrieval;retr...</td>\n",
       "      <td>rawlsian;recommender systems;generative model;...</td>\n",
       "    </tr>\n",
       "    <tr>\n",
       "      <th>1</th>\n",
       "      <td>10_1145-3303772_3303791.pdf</td>\n",
       "      <td>10.1145/3303772.3303791</td>\n",
       "      <td>Evaluating the Fairness of Predictive Student ...</td>\n",
       "      <td>Gardner, Josh;Brooks, Christopher;Baker, Ryan</td>\n",
       "      <td></td>\n",
       "      <td>ACM</td>\n",
       "      <td>2019</td>\n",
       "      <td>fairness;machine learning;moocs</td>\n",
       "      <td>applied computing;education;computer-assisted ...</td>\n",
       "      <td>learning analytics;metric;moocs;predictive mod...</td>\n",
       "    </tr>\n",
       "    <tr>\n",
       "      <th>2</th>\n",
       "      <td>10_1145-3616865.pdf</td>\n",
       "      <td>10.1145/3616865</td>\n",
       "      <td>Fairness in Machine Learning: A Survey</td>\n",
       "      <td>Caton, Simon;Haas, Christian</td>\n",
       "      <td>ACM Computing Surveys</td>\n",
       "      <td>Association for Computing Machinery (ACM)</td>\n",
       "      <td>2023</td>\n",
       "      <td>fairness;accountability;transparency;machine l...</td>\n",
       "      <td>NaN</td>\n",
       "      <td></td>\n",
       "    </tr>\n",
       "    <tr>\n",
       "      <th>3</th>\n",
       "      <td>10_1145-3340531_3411980.pdf</td>\n",
       "      <td>10.1145/3340531.3411980</td>\n",
       "      <td>Fair Class Balancing: Enhancing Model Fairness...</td>\n",
       "      <td>Yan, Shen;Kao, Hsien-te;Ferrara, Emilio</td>\n",
       "      <td></td>\n",
       "      <td>ACM</td>\n",
       "      <td>2020</td>\n",
       "      <td>fairness;bias;class balancing</td>\n",
       "      <td>computing methodologies;machine learning;socia...</td>\n",
       "      <td>machine learning;screening;spur</td>\n",
       "    </tr>\n",
       "    <tr>\n",
       "      <th>4</th>\n",
       "      <td>10_1145-3359061_3361084.pdf</td>\n",
       "      <td>10.1145/3359061.3361084</td>\n",
       "      <td>Is mutation score a fair metric?</td>\n",
       "      <td>Souza, Beatriz</td>\n",
       "      <td></td>\n",
       "      <td>ACM</td>\n",
       "      <td>2019</td>\n",
       "      <td>mutation testing;mutation score;test suite eff...</td>\n",
       "      <td>software and its engineering;software creation...</td>\n",
       "      <td>metric;mutation;test suite</td>\n",
       "    </tr>\n",
       "    <tr>\n",
       "      <th>...</th>\n",
       "      <td>...</td>\n",
       "      <td>...</td>\n",
       "      <td>...</td>\n",
       "      <td>...</td>\n",
       "      <td>...</td>\n",
       "      <td>...</td>\n",
       "      <td>...</td>\n",
       "      <td>...</td>\n",
       "      <td>...</td>\n",
       "      <td>...</td>\n",
       "    </tr>\n",
       "    <tr>\n",
       "      <th>196</th>\n",
       "      <td>10_1145-3394486_3403199.pdf</td>\n",
       "      <td>10.1145/3394486.3403199</td>\n",
       "      <td>Evaluating Fairness Using Permutation Tests</td>\n",
       "      <td>DiCiccio, Cyrus;Vasudevan, Sriram;Basu, Kinjal...</td>\n",
       "      <td></td>\n",
       "      <td>ACM</td>\n",
       "      <td>2020</td>\n",
       "      <td>permutation tests;fairness;asymptotics</td>\n",
       "      <td>information systems;world wide web;web applica...</td>\n",
       "      <td>permutation;machine learning;gravity;metric;hy...</td>\n",
       "    </tr>\n",
       "    <tr>\n",
       "      <th>197</th>\n",
       "      <td>10_1145-3531146_3533146.pdf</td>\n",
       "      <td>10.1145/3531146.3533146</td>\n",
       "      <td>Fair Representation Clustering with Several Pr...</td>\n",
       "      <td>Dai, Zhen;Makarychev, Yury;Vakilian, Ali</td>\n",
       "      <td></td>\n",
       "      <td>ACM</td>\n",
       "      <td>2022</td>\n",
       "      <td>fair k-median;clustering;approximation algorit...</td>\n",
       "      <td></td>\n",
       "      <td>k-median problem;metric space;ck;fj;exponentia...</td>\n",
       "    </tr>\n",
       "    <tr>\n",
       "      <th>198</th>\n",
       "      <td>10_1109-ICSE48619_2023_00133.pdf</td>\n",
       "      <td>10.1109/ICSE48619.2023.00133</td>\n",
       "      <td></td>\n",
       "      <td></td>\n",
       "      <td></td>\n",
       "      <td></td>\n",
       "      <td></td>\n",
       "      <td>fairness;ensemble;machine learning;models</td>\n",
       "      <td>NaN</td>\n",
       "      <td>NaN</td>\n",
       "    </tr>\n",
       "    <tr>\n",
       "      <th>199</th>\n",
       "      <td>10_1145-3600211_3604657.pdf</td>\n",
       "      <td>10.1145/3600211.3604657</td>\n",
       "      <td>Fairness Implications of Encoding Protected Ca...</td>\n",
       "      <td>Mougan, Carlos;Alvarez, Jose Manuel;Ruggieri, ...</td>\n",
       "      <td></td>\n",
       "      <td>ACM</td>\n",
       "      <td>2023</td>\n",
       "      <td>fairness;algorithmic accountability;categorica...</td>\n",
       "      <td>computing methodologies;machine learning;learn...</td>\n",
       "      <td></td>\n",
       "    </tr>\n",
       "    <tr>\n",
       "      <th>200</th>\n",
       "      <td>10_1145-3442188_3445865.pdf</td>\n",
       "      <td>10.1145/3442188.3445865</td>\n",
       "      <td>Fairness Violations and Mitigation under Covar...</td>\n",
       "      <td>Singh, Harvineet;Singh, Rina;Mhasawade, Vishwa...</td>\n",
       "      <td></td>\n",
       "      <td>ACM</td>\n",
       "      <td>2021</td>\n",
       "      <td>algorithmic fairness;domain adaptation;covaria...</td>\n",
       "      <td>computing methodologies;artificial intelligenc...</td>\n",
       "      <td>feature selection;causal graph;domain adaptation</td>\n",
       "    </tr>\n",
       "  </tbody>\n",
       "</table>\n",
       "<p>201 rows × 10 columns</p>\n",
       "</div>"
      ],
      "text/plain": [
       "                            file_name                           doi  \\\n",
       "0         10_1145-3404835_3462948.pdf       10.1145/3404835.3462948   \n",
       "1         10_1145-3303772_3303791.pdf       10.1145/3303772.3303791   \n",
       "2                 10_1145-3616865.pdf               10.1145/3616865   \n",
       "3         10_1145-3340531_3411980.pdf       10.1145/3340531.3411980   \n",
       "4         10_1145-3359061_3361084.pdf       10.1145/3359061.3361084   \n",
       "..                                ...                           ...   \n",
       "196       10_1145-3394486_3403199.pdf       10.1145/3394486.3403199   \n",
       "197       10_1145-3531146_3533146.pdf       10.1145/3531146.3533146   \n",
       "198  10_1109-ICSE48619_2023_00133.pdf  10.1109/ICSE48619.2023.00133   \n",
       "199       10_1145-3600211_3604657.pdf       10.1145/3600211.3604657   \n",
       "200       10_1145-3442188_3445865.pdf       10.1145/3442188.3445865   \n",
       "\n",
       "                                                 title  \\\n",
       "0    Fairness among New Items in Cold Start Recomme...   \n",
       "1    Evaluating the Fairness of Predictive Student ...   \n",
       "2               Fairness in Machine Learning: A Survey   \n",
       "3    Fair Class Balancing: Enhancing Model Fairness...   \n",
       "4                     Is mutation score a fair metric?   \n",
       "..                                                 ...   \n",
       "196        Evaluating Fairness Using Permutation Tests   \n",
       "197  Fair Representation Clustering with Several Pr...   \n",
       "198                                                      \n",
       "199  Fairness Implications of Encoding Protected Ca...   \n",
       "200  Fairness Violations and Mitigation under Covar...   \n",
       "\n",
       "                                               authors                journal  \\\n",
       "0    Zhu, Ziwei;Kim, Jingu;Nguyen, Trung;Fenton, Ai...                          \n",
       "1        Gardner, Josh;Brooks, Christopher;Baker, Ryan                          \n",
       "2                         Caton, Simon;Haas, Christian  ACM Computing Surveys   \n",
       "3              Yan, Shen;Kao, Hsien-te;Ferrara, Emilio                          \n",
       "4                                       Souza, Beatriz                          \n",
       "..                                                 ...                    ...   \n",
       "196  DiCiccio, Cyrus;Vasudevan, Sriram;Basu, Kinjal...                          \n",
       "197           Dai, Zhen;Makarychev, Yury;Vakilian, Ali                          \n",
       "198                                                                             \n",
       "199  Mougan, Carlos;Alvarez, Jose Manuel;Ruggieri, ...                          \n",
       "200  Singh, Harvineet;Singh, Rina;Mhasawade, Vishwa...                          \n",
       "\n",
       "                                     publisher  year  \\\n",
       "0                                          ACM  2021   \n",
       "1                                          ACM  2019   \n",
       "2    Association for Computing Machinery (ACM)  2023   \n",
       "3                                          ACM  2020   \n",
       "4                                          ACM  2019   \n",
       "..                                         ...   ...   \n",
       "196                                        ACM  2020   \n",
       "197                                        ACM  2022   \n",
       "198                                                    \n",
       "199                                        ACM  2023   \n",
       "200                                        ACM  2021   \n",
       "\n",
       "                                              keywords  \\\n",
       "0                   fairness;cold start recommendation   \n",
       "1                      fairness;machine learning;moocs   \n",
       "2    fairness;accountability;transparency;machine l...   \n",
       "3                        fairness;bias;class balancing   \n",
       "4    mutation testing;mutation score;test suite eff...   \n",
       "..                                                 ...   \n",
       "196             permutation tests;fairness;asymptotics   \n",
       "197  fair k-median;clustering;approximation algorit...   \n",
       "198          fairness;ensemble;machine learning;models   \n",
       "199  fairness;algorithmic accountability;categorica...   \n",
       "200  algorithmic fairness;domain adaptation;covaria...   \n",
       "\n",
       "                                            topics_acm  \\\n",
       "0    information systems;information retrieval;retr...   \n",
       "1    applied computing;education;computer-assisted ...   \n",
       "2                                                  NaN   \n",
       "3    computing methodologies;machine learning;socia...   \n",
       "4    software and its engineering;software creation...   \n",
       "..                                                 ...   \n",
       "196  information systems;world wide web;web applica...   \n",
       "197                                                      \n",
       "198                                                NaN   \n",
       "199  computing methodologies;machine learning;learn...   \n",
       "200  computing methodologies;artificial intelligenc...   \n",
       "\n",
       "                                        topics_dbpedia  \n",
       "0    rawlsian;recommender systems;generative model;...  \n",
       "1    learning analytics;metric;moocs;predictive mod...  \n",
       "2                                                       \n",
       "3                      machine learning;screening;spur  \n",
       "4                           metric;mutation;test suite  \n",
       "..                                                 ...  \n",
       "196  permutation;machine learning;gravity;metric;hy...  \n",
       "197  k-median problem;metric space;ck;fj;exponentia...  \n",
       "198                                                NaN  \n",
       "199                                                     \n",
       "200   feature selection;causal graph;domain adaptation  \n",
       "\n",
       "[201 rows x 10 columns]"
      ]
     },
     "execution_count": 4,
     "metadata": {},
     "output_type": "execute_result"
    }
   ],
   "source": [
    "reader.get_metadata(\"dataframe\")"
   ]
  },
  {
   "cell_type": "code",
   "execution_count": 70,
   "metadata": {},
   "outputs": [
    {
     "data": {
      "text/plain": [
       "176"
      ]
     },
     "execution_count": 70,
     "metadata": {},
     "output_type": "execute_result"
    }
   ],
   "source": [
    "len([1 for paper in reader.paper_list if paper.topics.get(\"acm\") or paper.topics.get(\"dbpedia\")])"
   ]
  },
  {
   "cell_type": "code",
   "execution_count": 61,
   "metadata": {},
   "outputs": [],
   "source": [
    "reader.dump(overwrite=False)"
   ]
  },
  {
   "cell_type": "code",
   "execution_count": 64,
   "metadata": {},
   "outputs": [
    {
     "data": {
      "text/html": [
       "<div>\n",
       "<style scoped>\n",
       "    .dataframe tbody tr th:only-of-type {\n",
       "        vertical-align: middle;\n",
       "    }\n",
       "\n",
       "    .dataframe tbody tr th {\n",
       "        vertical-align: top;\n",
       "    }\n",
       "\n",
       "    .dataframe thead th {\n",
       "        text-align: right;\n",
       "    }\n",
       "</style>\n",
       "<table border=\"1\" class=\"dataframe\">\n",
       "  <thead>\n",
       "    <tr style=\"text-align: right;\">\n",
       "      <th></th>\n",
       "      <th>DE</th>\n",
       "      <th>TI</th>\n",
       "      <th>AU</th>\n",
       "      <th>SO</th>\n",
       "      <th>SC</th>\n",
       "      <th>PY</th>\n",
       "    </tr>\n",
       "  </thead>\n",
       "  <tbody>\n",
       "    <tr>\n",
       "      <th>0</th>\n",
       "      <td>fairness;cold start recommendation</td>\n",
       "      <td>Fairness among New Items in Cold Start Recomme...</td>\n",
       "      <td>Zhu, Ziwei;Kim, Jingu;Nguyen, Trung;Fenton, Ai...</td>\n",
       "      <td>ACM</td>\n",
       "      <td>information systems;information retrieval;retr...</td>\n",
       "      <td>2021</td>\n",
       "    </tr>\n",
       "    <tr>\n",
       "      <th>1</th>\n",
       "      <td>fairness;machine learning;moocs</td>\n",
       "      <td>Evaluating the Fairness of Predictive Student ...</td>\n",
       "      <td>Gardner, Josh;Brooks, Christopher;Baker, Ryan</td>\n",
       "      <td>ACM</td>\n",
       "      <td>applied computing;education;computer-assisted ...</td>\n",
       "      <td>2019</td>\n",
       "    </tr>\n",
       "    <tr>\n",
       "      <th>3</th>\n",
       "      <td>fairness;bias;class balancing</td>\n",
       "      <td>Fair Class Balancing: Enhancing Model Fairness...</td>\n",
       "      <td>Yan, Shen;Kao, Hsien-te;Ferrara, Emilio</td>\n",
       "      <td>ACM</td>\n",
       "      <td>computing methodologies;machine learning;socia...</td>\n",
       "      <td>2020</td>\n",
       "    </tr>\n",
       "    <tr>\n",
       "      <th>4</th>\n",
       "      <td>mutation testing;mutation score;test suite eff...</td>\n",
       "      <td>Is mutation score a fair metric?</td>\n",
       "      <td>Souza, Beatriz</td>\n",
       "      <td>ACM</td>\n",
       "      <td>software and its engineering;software creation...</td>\n",
       "      <td>2019</td>\n",
       "    </tr>\n",
       "    <tr>\n",
       "      <th>5</th>\n",
       "      <td>fairness;spatial-temporal applications;privacy</td>\n",
       "      <td>Analysing Fairness of Privacy-Utility Mobility...</td>\n",
       "      <td>Zhan, Yuting;Haddadi, Hamed;Mashhadi, Afra</td>\n",
       "      <td>ACM</td>\n",
       "      <td>security and privacy;human and societal aspect...</td>\n",
       "      <td>2023</td>\n",
       "    </tr>\n",
       "    <tr>\n",
       "      <th>...</th>\n",
       "      <td>...</td>\n",
       "      <td>...</td>\n",
       "      <td>...</td>\n",
       "      <td>...</td>\n",
       "      <td>...</td>\n",
       "      <td>...</td>\n",
       "    </tr>\n",
       "    <tr>\n",
       "      <th>192</th>\n",
       "      <td>fairness;named entity recognition;clinical de-...</td>\n",
       "      <td>In the Name of Fairness: Assessing the Bias in...</td>\n",
       "      <td>Xiao, Yuxin;Lim, Shulammite;Pollard, Tom Josep...</td>\n",
       "      <td>ACM</td>\n",
       "      <td>computing methodologies;artificial intelligenc...</td>\n",
       "      <td>2023</td>\n",
       "    </tr>\n",
       "    <tr>\n",
       "      <th>194</th>\n",
       "      <td>decision trees;information gain;domain adaptat...</td>\n",
       "      <td>Domain Adaptive Decision Trees: Implications f...</td>\n",
       "      <td>Alvarez, Jose M.;Scott, Kristen M.;Berendt, Be...</td>\n",
       "      <td>ACM</td>\n",
       "      <td>computing methodologies;machine learning;learn...</td>\n",
       "      <td>2023</td>\n",
       "    </tr>\n",
       "    <tr>\n",
       "      <th>196</th>\n",
       "      <td>permutation tests;fairness;asymptotics</td>\n",
       "      <td>Evaluating Fairness Using Permutation Tests</td>\n",
       "      <td>DiCiccio, Cyrus;Vasudevan, Sriram;Basu, Kinjal...</td>\n",
       "      <td>ACM</td>\n",
       "      <td>information systems;world wide web;web applica...</td>\n",
       "      <td>2020</td>\n",
       "    </tr>\n",
       "    <tr>\n",
       "      <th>199</th>\n",
       "      <td>fairness;algorithmic accountability;categorica...</td>\n",
       "      <td>Fairness Implications of Encoding Protected Ca...</td>\n",
       "      <td>Mougan, Carlos;Alvarez, Jose Manuel;Ruggieri, ...</td>\n",
       "      <td>ACM</td>\n",
       "      <td>computing methodologies;machine learning;learn...</td>\n",
       "      <td>2023</td>\n",
       "    </tr>\n",
       "    <tr>\n",
       "      <th>200</th>\n",
       "      <td>algorithmic fairness;domain adaptation;covaria...</td>\n",
       "      <td>Fairness Violations and Mitigation under Covar...</td>\n",
       "      <td>Singh, Harvineet;Singh, Rina;Mhasawade, Vishwa...</td>\n",
       "      <td>ACM</td>\n",
       "      <td>computing methodologies;artificial intelligenc...</td>\n",
       "      <td>2021</td>\n",
       "    </tr>\n",
       "  </tbody>\n",
       "</table>\n",
       "<p>114 rows × 6 columns</p>\n",
       "</div>"
      ],
      "text/plain": [
       "                                                    DE  \\\n",
       "0                   fairness;cold start recommendation   \n",
       "1                      fairness;machine learning;moocs   \n",
       "3                        fairness;bias;class balancing   \n",
       "4    mutation testing;mutation score;test suite eff...   \n",
       "5       fairness;spatial-temporal applications;privacy   \n",
       "..                                                 ...   \n",
       "192  fairness;named entity recognition;clinical de-...   \n",
       "194  decision trees;information gain;domain adaptat...   \n",
       "196             permutation tests;fairness;asymptotics   \n",
       "199  fairness;algorithmic accountability;categorica...   \n",
       "200  algorithmic fairness;domain adaptation;covaria...   \n",
       "\n",
       "                                                    TI  \\\n",
       "0    Fairness among New Items in Cold Start Recomme...   \n",
       "1    Evaluating the Fairness of Predictive Student ...   \n",
       "3    Fair Class Balancing: Enhancing Model Fairness...   \n",
       "4                     Is mutation score a fair metric?   \n",
       "5    Analysing Fairness of Privacy-Utility Mobility...   \n",
       "..                                                 ...   \n",
       "192  In the Name of Fairness: Assessing the Bias in...   \n",
       "194  Domain Adaptive Decision Trees: Implications f...   \n",
       "196        Evaluating Fairness Using Permutation Tests   \n",
       "199  Fairness Implications of Encoding Protected Ca...   \n",
       "200  Fairness Violations and Mitigation under Covar...   \n",
       "\n",
       "                                                    AU   SO  \\\n",
       "0    Zhu, Ziwei;Kim, Jingu;Nguyen, Trung;Fenton, Ai...  ACM   \n",
       "1        Gardner, Josh;Brooks, Christopher;Baker, Ryan  ACM   \n",
       "3              Yan, Shen;Kao, Hsien-te;Ferrara, Emilio  ACM   \n",
       "4                                       Souza, Beatriz  ACM   \n",
       "5           Zhan, Yuting;Haddadi, Hamed;Mashhadi, Afra  ACM   \n",
       "..                                                 ...  ...   \n",
       "192  Xiao, Yuxin;Lim, Shulammite;Pollard, Tom Josep...  ACM   \n",
       "194  Alvarez, Jose M.;Scott, Kristen M.;Berendt, Be...  ACM   \n",
       "196  DiCiccio, Cyrus;Vasudevan, Sriram;Basu, Kinjal...  ACM   \n",
       "199  Mougan, Carlos;Alvarez, Jose Manuel;Ruggieri, ...  ACM   \n",
       "200  Singh, Harvineet;Singh, Rina;Mhasawade, Vishwa...  ACM   \n",
       "\n",
       "                                                    SC    PY  \n",
       "0    information systems;information retrieval;retr...  2021  \n",
       "1    applied computing;education;computer-assisted ...  2019  \n",
       "3    computing methodologies;machine learning;socia...  2020  \n",
       "4    software and its engineering;software creation...  2019  \n",
       "5    security and privacy;human and societal aspect...  2023  \n",
       "..                                                 ...   ...  \n",
       "192  computing methodologies;artificial intelligenc...  2023  \n",
       "194  computing methodologies;machine learning;learn...  2023  \n",
       "196  information systems;world wide web;web applica...  2020  \n",
       "199  computing methodologies;machine learning;learn...  2023  \n",
       "200  computing methodologies;artificial intelligenc...  2021  \n",
       "\n",
       "[114 rows x 6 columns]"
      ]
     },
     "execution_count": 64,
     "metadata": {},
     "output_type": "execute_result"
    }
   ],
   "source": [
    "reader.export_as_klink_input(classification_source=\"acm\")"
   ]
  },
  {
   "cell_type": "code",
   "execution_count": 22,
   "metadata": {},
   "outputs": [
    {
     "name": "stdout",
     "output_type": "stream",
     "text": [
      "zsh:cd:1: no such file or directory: ./klink2/\n"
     ]
    },
    {
     "name": "stdout",
     "output_type": "stream",
     "text": [
      "process article  1  out of  1 \n",
      "process keyword  1  out of  9 \n",
      "process keyword  2  out of  9 \n",
      "process keyword  3  out of  9 \n",
      "process keyword  4  out of  9 \n",
      "process keyword  5  out of  9 \n",
      "process keyword  6  out of  9 \n",
      "process keyword  7  out of  9 \n",
      "process keyword  8  out of  9 \n",
      "process keyword  9  out of  9 \n",
      "Input variables saved to input-1.Rdata \n"
     ]
    },
    {
     "name": "stderr",
     "output_type": "stream",
     "text": [
      "\n",
      "Attaching package: ‘igraph’\n",
      "\n",
      "The following objects are masked from ‘package:stats’:\n",
      "\n",
      "    decompose, spectrum\n",
      "\n",
      "The following object is masked from ‘package:base’:\n",
      "\n",
      "    union\n",
      "\n",
      "hash-2.2.6.3 provided by Decision Patterns\n",
      "\n",
      "\n",
      "Attaching package: ‘fastcluster’\n",
      "\n",
      "The following object is masked from ‘package:stats’:\n",
      "\n",
      "    hclust\n",
      "\n",
      "\n",
      "Attaching package: ‘dplyr’\n",
      "\n",
      "The following objects are masked from ‘package:igraph’:\n",
      "\n",
      "    as_data_frame, groups, union\n",
      "\n",
      "The following objects are masked from ‘package:stats’:\n",
      "\n",
      "    filter, lag\n",
      "\n",
      "The following objects are masked from ‘package:base’:\n",
      "\n",
      "    intersect, setdiff, setequal, union\n",
      "\n"
     ]
    },
    {
     "name": "stdout",
     "output_type": "stream",
     "text": [
      "Iteration 1 \n",
      "Number of keywords = 9 \n",
      "Keyword inference.\n",
      "Infering keyword: fairness  [ number of related keywords = 8 ]\n",
      "Infering keyword: fcfs  [ number of related keywords = 8 ]\n",
      "Infering keyword: job scheduling  [ number of related keywords = 8 ]\n",
      "Infering keyword: m/m/1  [ number of related keywords = 8 ]\n",
      "Infering keyword: processor sharing  [ number of related keywords = 8 ]\n",
      "Infering keyword: ps  [ number of related keywords = 8 ]\n",
      "Infering keyword: queue disciplines  [ number of related keywords = 8 ]\n",
      "Infering keyword: resource allocation  [ number of related keywords = 8 ]\n",
      "Infering keyword: unfairness  [ number of related keywords = 8 ]\n",
      "Number of working semantic relations after inference:\n",
      "\trelatedEquivalent:  0 \n",
      "\tbroaderGeneric:  0 \n",
      "\tcontributesTo: 0 \n",
      "\tsimilarityLink: 0 \n",
      "Seeking ambiguous keywords.\n",
      "splitAmbiguousKeywords for fairness  [ number of related keywords = 8 ]\n",
      "splitAmbiguousKeywords for fcfs  [ number of related keywords = 8 ]\n",
      "splitAmbiguousKeywords for job scheduling  [ number of related keywords = 8 ]\n",
      "splitAmbiguousKeywords for m/m/1  [ number of related keywords = 8 ]\n",
      "splitAmbiguousKeywords for processor sharing  [ number of related keywords = 8 ]\n",
      "splitAmbiguousKeywords for ps  [ number of related keywords = 8 ]\n",
      "splitAmbiguousKeywords for queue disciplines  [ number of related keywords = 8 ]\n",
      "splitAmbiguousKeywords for resource allocation  [ number of related keywords = 8 ]\n",
      "splitAmbiguousKeywords for unfairness  [ number of related keywords = 8 ]\n",
      "Intersect clustering was run 0 times.\n",
      "Splitting was done 0 times.\n",
      "Saving semantic relations.\n",
      "Filtering keywords.\n",
      "Output\n",
      "\tnumber of keywords:  0 \n",
      "\tnumber of relations:  0 \n"
     ]
    }
   ],
   "source": [
    "\n",
    "!cd \"./klink2/\"\n",
    "subprocess.run([\"Rscript\", \"main.R\"])\n",
    "!cd \"../\""
   ]
  },
  {
   "cell_type": "code",
   "execution_count": 3,
   "metadata": {},
   "outputs": [],
   "source": [
    "export_ontology(named_list + \"-1\")"
   ]
  },
  {
   "cell_type": "code",
   "execution_count": 30,
   "metadata": {},
   "outputs": [],
   "source": [
    "from reader import Paper\n",
    "from config import PAPERS_PATH"
   ]
  },
  {
   "cell_type": "code",
   "execution_count": 31,
   "metadata": {},
   "outputs": [],
   "source": [
    "paper = Paper(PAPERS_PATH / \"fairness\", \"10_1145-3593013_3594107.pdf\", True)"
   ]
  },
  {
   "cell_type": "code",
   "execution_count": 32,
   "metadata": {},
   "outputs": [],
   "source": [
    "paper.load()"
   ]
  },
  {
   "cell_type": "code",
   "execution_count": 33,
   "metadata": {},
   "outputs": [
    {
     "data": {
      "text/plain": [
       "'modern machine learning increasingly supports paradigms that are multi-institutional (using data from multiple institutions during training) or cross-institutional (using models from multiple institutions for inference), but the empirical effects of these paradigms are not well understood. this study investigates cross-institutional learning via an empirical case study in higher education. we propose a framework and metrics for assessing the utility and fairness of student dropout prediction models that are transferred across institutions. we examine the feasibility of cross-institutional transfer under real-world data- and model-sharing constraints, quantifying model biases for intersectional student identities, characterizing potential disparate impact due to these biases, and investigating the impact of various cross-institutional ensembling approaches on fairness and overall model performance. we perform this analysis on data representing over 200,000 enrolled students annually from four universities without sharing training data between institutions. we find that a simple zero-shot cross-institutional transfer procedure can achieve similar performance to locally-trained models for all institutions in our study, without sacrificing model fairness. we also find that stacked ensembling provides no additional benefits to overall performance or fairness compared to either a local model or the zero-shot transfer procedure we tested. we find no evidence of a fairness-accuracy tradeoff across dozens of models and transfer schemes evaluated. our auditing procedure also highlights the importance of intersectional fairness analysis, revealing performance disparities at the intersection of sensitive identity groups that are concealed under one-dimensional analysis.1 1code to reproduce our experiments is available at https://github.com/educationaltechnology-collective/cross-institutional-transfer-learning-facct-2023. permission to make digital or hard copies of all or part of this work for personal or classroom use is granted without fee provided that copies are not made or distributed for profit or commercial advantage and that copies bear this notice and the full citation on the first page. copyrights for components of this work owned by others than the author(s) must be honored. abstracting with credit is permitted. to copy otherwise, or republish, to post on servers or to redistribute to lists, requires prior specific permission and/or a fee. request permissions from permissions@acm.org. facct ’23, june 12–15, 2023, chicago, il, usa © 2023 copyright held by the owner/author(s). publication rights licensed to acm. acm isbn 979-8-4007-0192-4/23/06...$15.00 https://doi.org/10.1145/3593013.3594107'"
      ]
     },
     "execution_count": 33,
     "metadata": {},
     "output_type": "execute_result"
    }
   ],
   "source": [
    "paper.abstract"
   ]
  },
  {
   "cell_type": "code",
   "execution_count": 35,
   "metadata": {},
   "outputs": [
    {
     "data": {
      "text/plain": [
       "'Cross-Institutional Transfer Learning for Educational Models:\\nImplications for Model Performance, Fairness, and Equity\\nJosh Gardner\\njpgard@cs.washington.edu\\nUniversity of Washington\\nRenzhe Yu\\nrenzheyu@tc.columbia.edu\\nTeachers College & Data Science\\nInstitute, Columbia University\\nQuan Nguyen\\nquan.nguyen@ubc.ca\\nUniversity of British Columbia\\nChristopher Brooks\\nbrooksch@umich.edu\\nSchool of Information, University of\\nMichigan\\nRene F. Kizilcec\\nkizilcec@cornell.edu\\nDepartment of Information Science,\\nCornell University\\nABSTRACT\\nModern machine learning increasingly supports paradigms that are\\nmulti-institutional (using data from multiple institutions during\\ntraining) or cross-institutional (using models from multiple insti-\\ntutions for inference), but the empirical effects of these paradigms\\nare not well understood. This study investigates cross-institutional\\nlearning via an empirical case study in higher education. We pro-\\npose a framework and metrics for assessing the utility and fairness\\nof student dropout prediction models that are transferred across in-\\nstitutions. We examine the feasibility of cross-institutional transfer\\nunder real-world data- and model-sharing constraints, quantifying\\nmodel biases for intersectional student identities, characterizing\\npotential disparate impact due to these biases, and investigating the\\nimpact of various cross-institutional ensembling approaches on fair-\\nness and overall model performance. We perform this analysis on\\ndata representing over 200,000 enrolled students annually from four\\nuniversities without sharing training data between institutions.\\nWe find that a simple zero-shot cross-institutional transfer proce-\\ndure can achieve similar performance to locally-trained models for\\nall institutions in our study, without sacrificing model fairness. We\\nalso find that stacked ensembling provides no additional benefits to\\noverall performance or fairness compared to either a local model or\\nthe zero-shot transfer procedure we tested. We find no evidence of\\na fairness-accuracy tradeoff across dozens of models and transfer\\nschemes evaluated. Our auditing procedure also highlights the im-\\nportance of intersectional fairness analysis, revealing performance\\ndisparities at the intersection of sensitive identity groups that are\\nconcealed under one-dimensional analysis.1\\n1Code to reproduce our experiments is available at https://github.com/educational-\\ntechnology-collective/cross-institutional-transfer-learning-facct-2023.\\nPermission to make digital or hard copies of all or part of this work for personal or\\nclassroom use is granted without fee provided that copies are not made or distributed\\nfor profit or commercial advantage and that copies bear this notice and the full citation\\non the first page. Copyrights for components of this work owned by others than the\\nauthor(s) must be honored. Abstracting with credit is permitted. To copy otherwise, or\\nrepublish, to post on servers or to redistribute to lists, requires prior specific permission\\nand/or a fee. Request permissions from permissions@acm.org.\\nFAccT ’23, June 12–15, 2023, Chicago, IL, USA\\n© 2023 Copyright held by the owner/author(s). Publication rights licensed to ACM.\\nACM ISBN 979-8-4007-0192-4/23/06...$15.00\\nhttps://doi.org/10.1145/3593013.3594107\\nCCS CONCEPTS\\n• Applied computing → Law, social and behavioral sciences;\\nEducation; • Computing methodologies → Machine learning.\\nKEYWORDS\\nAlgorithmic Fairness, Education, Dropout Prediction, Transfer\\nLearning, Intersectionality\\nACM Reference Format:\\nJosh Gardner, Renzhe Yu, Quan Nguyen, Christopher Brooks, and Rene F.\\nKizilcec. 2023. Cross-Institutional Transfer Learning for Educational Models:\\nImplications for Model Performance, Fairness, and Equity. In 2023 ACM\\nConference on Fairness, Accountability, and Transparency (FAccT ’23), June\\n12–15, 2023, Chicago, IL, USA. ACM, New York, NY, USA, 21 pages. https:\\n//doi.org/10.1145/3593013.3594107\\n1\\nINTRODUCTION\\nImprovements in digital infrastructure have enabled numerous\\napplications of machine learning across domains but in decentral-\\nized organizational contexts (e.g., universities, schools, hospitals,\\nfinance, and government), the capacity to use machine learning\\ntypically depends on the availability of local infrastructure and\\nresources. Under-resourced institutions may therefore be unable\\nto reap the full benefits of machine learning applications despite\\ncommonly having the greatest need. Externally developed mod-\\nels have increasingly been adopted in these cases to address this\\nchallenge. While this highlights a potential benefit of sharing pre-\\ndictive models within large-scale cross-institutional collaborations,\\nthe risks and benefits of cross-institutional modeling are not well\\nunderstood, particularly in terms of the potential impact on the\\nmost vulnerable populations affected by these models.\\nWe investigate the benefits and risks of cross-institutional trans-\\nfer in the context of an important and pervasive application of\\nmachine learning in education: university student dropout predic-\\ntion. Every year, over one million students drop out of college in the\\nUnited States, and they are 100 times more likely to default on their\\nstudent loan payments than those who graduate [46]. This leaves\\nyoung adults with a major financial burden and little to improve\\ntheir job prospects with an incomplete degree [66]. Dropout rates\\nare especially high for students from minority groups2, exacerbat-\\ning existing inequities.\\n2https://nces.ed.gov/programs/raceindicators/indicator_red.asp\\n1664\\n'"
      ]
     },
     "execution_count": 35,
     "metadata": {},
     "output_type": "execute_result"
    }
   ],
   "source": [
    "paper._raw_text[0]"
   ]
  },
  {
   "cell_type": "code",
   "execution_count": 49,
   "metadata": {},
   "outputs": [
    {
     "data": {
      "text/plain": [
       "<Graph identifier=N0c46a3b59a004efd90d89db8c37da9f6 (<class 'rdflib.graph.Graph'>)>"
      ]
     },
     "execution_count": 49,
     "metadata": {},
     "output_type": "execute_result"
    }
   ],
   "source": [
    "from rdflib import Graph, URIRef, Literal, Namespace\n",
    "\n",
    "# Create a Graph\n",
    "g = Graph()\n",
    "\n",
    "# Define a namespace\n",
    "ex = Namespace(\"http://example.org/\")\n",
    "\n",
    "# Add triples\n",
    "g.add((ex.Subject1, ex.hasProperty, ex.Object1))\n",
    "g.add((ex.Subject2, ex.hasProperty, Literal(\"Literal Value\")))\n",
    "\n",
    "# Serialize to a file (Turtle format)\n",
    "g.serialize(destination='ontology.ttl', format='turtle')"
   ]
  },
  {
   "cell_type": "code",
   "execution_count": null,
   "metadata": {},
   "outputs": [],
   "source": []
  }
 ],
 "metadata": {
  "kernelspec": {
   "display_name": "venv",
   "language": "python",
   "name": "python3"
  },
  "language_info": {
   "codemirror_mode": {
    "name": "ipython",
    "version": 3
   },
   "file_extension": ".py",
   "mimetype": "text/x-python",
   "name": "python",
   "nbconvert_exporter": "python",
   "pygments_lexer": "ipython3",
   "version": "3.11.6"
  }
 },
 "nbformat": 4,
 "nbformat_minor": 2
}
